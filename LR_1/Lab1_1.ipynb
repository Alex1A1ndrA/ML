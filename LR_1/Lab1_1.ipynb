{
 "cells": [
  {
   "cell_type": "markdown",
   "metadata": {
    "id": "sErcjeV2zU5I"
   },
   "source": [
    "# **Лабораторная работа №1**\n",
    "\n",
    "## **Выполнилa:**\n",
    "Ажаурова Александра Константиновна  \n",
    "Группа: М8О-303Б-22\n",
    "\n",
    "\n"
   ]
  },
  {
   "cell_type": "markdown",
   "metadata": {
    "id": "cXTzO5HV18Yr"
   },
   "source": [
    "# 1. Numpy\n",
    "\n",
    "Необходимо использовать функции и методы библиотеки numpy. Использовать циклы, генераторы списков **запрещено**."
   ]
  },
  {
   "cell_type": "code",
   "execution_count": 35,
   "metadata": {},
   "outputs": [],
   "source": [
    "import numpy as np"
   ]
  },
  {
   "cell_type": "markdown",
   "metadata": {
    "id": "AmUMh0xo32nb"
   },
   "source": [
    "1. Создайте матрицу $3 × 3 $ со значениями от 0 до 8."
   ]
  },
  {
   "cell_type": "code",
   "execution_count": 36,
   "metadata": {
    "id": "34WhZifT13Jn"
   },
   "outputs": [
    {
     "name": "stdout",
     "output_type": "stream",
     "text": [
      "[[0 1 2]\n",
      " [3 4 5]\n",
      " [6 7 8]]\n"
     ]
    }
   ],
   "source": [
    "matrix_3x3 = np.arange(9).reshape(3, 3)\n",
    "print(matrix_3x3)"
   ]
  },
  {
   "cell_type": "markdown",
   "metadata": {
    "id": "1jSpAGnP12Vn"
   },
   "source": [
    "2. Создайте матрицу шахматной доски  $8 × 8 $, заполненную 'B' и 'W', используя функцию tile."
   ]
  },
  {
   "cell_type": "code",
   "execution_count": 37,
   "metadata": {
    "id": "OKjYdYlB32JN"
   },
   "outputs": [
    {
     "name": "stdout",
     "output_type": "stream",
     "text": [
      "[['B' 'W' 'B' 'W' 'B' 'W' 'B' 'W']\n",
      " ['W' 'B' 'W' 'B' 'W' 'B' 'W' 'B']\n",
      " ['B' 'W' 'B' 'W' 'B' 'W' 'B' 'W']\n",
      " ['W' 'B' 'W' 'B' 'W' 'B' 'W' 'B']\n",
      " ['B' 'W' 'B' 'W' 'B' 'W' 'B' 'W']\n",
      " ['W' 'B' 'W' 'B' 'W' 'B' 'W' 'B']\n",
      " ['B' 'W' 'B' 'W' 'B' 'W' 'B' 'W']\n",
      " ['W' 'B' 'W' 'B' 'W' 'B' 'W' 'B']]\n"
     ]
    }
   ],
   "source": [
    "board = np.tile(np.array([['B', 'W'], ['W', 'B']]), (4, 4))\n",
    "print(board)"
   ]
  },
  {
   "cell_type": "markdown",
   "metadata": {
    "id": "_k7LOsPh4Feo"
   },
   "source": [
    "3. Найти индексы ненулевых элементов в произвольном массиве, например: $ [1,2,0,0,4,0,0,4,6,4,0] $\n"
   ]
  },
  {
   "cell_type": "code",
   "execution_count": 38,
   "metadata": {
    "id": "BUJdZFGn4P3k"
   },
   "outputs": [
    {
     "name": "stdout",
     "output_type": "stream",
     "text": [
      "[0 1 4 7 8 9]\n"
     ]
    }
   ],
   "source": [
    "array = np.array([1, 2, 0, 0, 4, 0, 0, 4, 6, 4, 0])\n",
    "nonzero_indices = np.nonzero(array)[0]\n",
    "print(nonzero_indices)"
   ]
  },
  {
   "cell_type": "markdown",
   "metadata": {
    "id": "ZJWS2wO-3xfn"
   },
   "source": [
    "4. Создайте двумерный массив с единицами на границах и нулями внутри, например:\n",
    "\n",
    "$ 1 1 1 1 1 $\n",
    "\n",
    "$ 1 0 0 0 1 $\n",
    "\n",
    "$ 1 0 0 0 1 $\n",
    "\n",
    "$ 1 1 1 1 1 $\n"
   ]
  },
  {
   "cell_type": "code",
   "execution_count": 39,
   "metadata": {
    "id": "dGfAw9ii5fhJ"
   },
   "outputs": [
    {
     "name": "stdout",
     "output_type": "stream",
     "text": [
      "[[1. 1. 1. 1. 1.]\n",
      " [1. 0. 0. 0. 1.]\n",
      " [1. 0. 0. 0. 1.]\n",
      " [1. 0. 0. 0. 1.]\n",
      " [1. 1. 1. 1. 1.]]\n"
     ]
    }
   ],
   "source": [
    "def border_ones(shape):\n",
    "    arr = np.ones(shape)\n",
    "    arr[1:-1, 1:-1] = 0\n",
    "    return arr\n",
    "\n",
    "border_array = border_ones((5, 5))\n",
    "print(border_array)"
   ]
  },
  {
   "cell_type": "markdown",
   "metadata": {
    "id": "L8m6wERB4m7_"
   },
   "source": [
    "5. Создайте случайный вектор размером 15 и замените максимальное значение на $NaN$.\n"
   ]
  },
  {
   "cell_type": "code",
   "execution_count": 40,
   "metadata": {
    "id": "-orpyoP14mKS"
   },
   "outputs": [
    {
     "name": "stdout",
     "output_type": "stream",
     "text": [
      "[0.78681882 0.64019391 0.45122894 0.01456157 0.70561643 0.28297789\n",
      " 0.07875942 0.55257469 0.88059063        nan 0.06569734 0.64107612\n",
      " 0.75908293 0.63101402 0.19411634]\n"
     ]
    }
   ],
   "source": [
    "random_vector = np.random.random(15)\n",
    "max_value_index = np.argmax(random_vector)\n",
    "random_vector[max_value_index] = np.nan\n",
    "print(random_vector)"
   ]
  },
  {
   "cell_type": "markdown",
   "metadata": {
    "id": "V5SVMkLv4QOl"
   },
   "source": [
    "6. Рассмотрим массив размерности $(6, 7, 8)$. Каков индекс $(i,j,k)$ 100-го элемента?"
   ]
  },
  {
   "cell_type": "code",
   "execution_count": 41,
   "metadata": {
    "id": "Io3LqADB4oNd"
   },
   "outputs": [
    {
     "name": "stdout",
     "output_type": "stream",
     "text": [
      "(1, 5, 4)\n"
     ]
    }
   ],
   "source": [
    "array_3d = np.zeros((6, 7, 8))\n",
    "index_100 = np.unravel_index(100, array_3d.shape)\n",
    "print(index_100)"
   ]
  },
  {
   "cell_type": "markdown",
   "metadata": {
    "id": "vTEGupeC4bmb"
   },
   "source": [
    "7. Рассмотрим случайную матрицу  $15 × 2 $, представляющую декартовы координаты, преобразуйте их в полярные координаты."
   ]
  },
  {
   "cell_type": "code",
   "execution_count": 42,
   "metadata": {
    "id": "wJggfH9L4nZ_"
   },
   "outputs": [
    {
     "name": "stdout",
     "output_type": "stream",
     "text": [
      "[[0.90335669 0.60267664]\n",
      " [0.83753923 0.48577805]\n",
      " [0.96760367 0.20162672]\n",
      " [0.92007699 1.2085153 ]\n",
      " [0.83485554 0.87734811]\n",
      " [0.98322431 1.28298553]\n",
      " [0.77563452 0.70389347]\n",
      " [0.76587488 1.30205106]\n",
      " [0.2417414  1.56715517]\n",
      " [0.80715962 0.25798749]\n",
      " [0.35342155 0.95690761]\n",
      " [0.65171874 1.32194912]\n",
      " [1.03197154 0.25673925]\n",
      " [0.31982058 1.19979736]\n",
      " [0.24822196 0.24486009]]\n"
     ]
    }
   ],
   "source": [
    "cartesian_coords = np.random.rand(15, 2)\n",
    "x, y = cartesian_coords[:, 0], cartesian_coords[:, 1]\n",
    "r = np.sqrt(x**2 + y**2)\n",
    "theta = np.arctan2(y, x)\n",
    "polar_coords = np.vstack((r, theta)).T\n",
    "print(polar_coords)"
   ]
  },
  {
   "cell_type": "markdown",
   "metadata": {
    "id": "Y6QOvFAE5Rdo"
   },
   "source": [
    "8. По двум массивам $x$ и $y$ постройте матрицу Коши $C$\n",
    " $(C_{ij} =\\frac{1}{x_i - y_j})$"
   ]
  },
  {
   "cell_type": "code",
   "execution_count": 43,
   "metadata": {
    "id": "VrMhqaTg5Rvv"
   },
   "outputs": [
    {
     "name": "stdout",
     "output_type": "stream",
     "text": [
      "[[-0.33333333 -0.33333333 -0.33333333]\n",
      " [-0.33333333 -0.33333333 -0.33333333]\n",
      " [-0.33333333 -0.33333333 -0.33333333]]\n"
     ]
    }
   ],
   "source": [
    "x = np.array([1, 2, 3])\n",
    "y = np.array([4, 5, 6])\n",
    "X, Y = np.meshgrid(x, y)\n",
    "cauchy_matrix = 1 / (X - Y.T)\n",
    "print(cauchy_matrix)"
   ]
  },
  {
   "cell_type": "markdown",
   "metadata": {
    "id": "clAXzbii4wA3"
   },
   "source": [
    "9. Рассмотрим матрицу $10 × 3 $, извлеките строки с неравными значениями (например, $[2,2,3]$)."
   ]
  },
  {
   "cell_type": "code",
   "execution_count": 44,
   "metadata": {
    "id": "97jD43Gl4wbx"
   },
   "outputs": [
    {
     "name": "stdout",
     "output_type": "stream",
     "text": [
      "[[3 1 3]\n",
      " [1 3 1]\n",
      " [1 4 1]\n",
      " [3 3 2]\n",
      " [2 2 4]\n",
      " [3 1 4]\n",
      " [2 4 1]\n",
      " [4 2 2]\n",
      " [2 2 4]\n",
      " [3 4 4]]\n"
     ]
    }
   ],
   "source": [
    "matrix_10x3 = np.random.randint(1, 5, (10, 3))\n",
    "unique_rows = matrix_10x3[np.any(matrix_10x3[:, 1:] != matrix_10x3[:, :-1], axis=1)]\n",
    "print(unique_rows)"
   ]
  },
  {
   "cell_type": "markdown",
   "metadata": {
    "id": "3dVmnyBLxuUP"
   },
   "source": [
    "10. Извлеките уникальные строки из двумерного массива.\n"
   ]
  },
  {
   "cell_type": "code",
   "execution_count": 45,
   "metadata": {
    "id": "yWdTK_orxtx0"
   },
   "outputs": [
    {
     "name": "stdout",
     "output_type": "stream",
     "text": [
      "[[1 3 1]\n",
      " [1 4 1]\n",
      " [2 2 4]\n",
      " [2 4 1]\n",
      " [3 1 3]\n",
      " [3 1 4]\n",
      " [3 3 2]\n",
      " [3 4 4]\n",
      " [4 2 2]]\n"
     ]
    }
   ],
   "source": [
    "unique_rows = np.unique(matrix_10x3, axis=0)\n",
    "print(unique_rows)"
   ]
  },
  {
   "cell_type": "markdown",
   "metadata": {
    "id": "ehaTVnKIyufu"
   },
   "source": [
    "# 2. Pandas\n",
    "\n",
    "# Найдите ответы на вопросы с помощью предложенного датасета:"
   ]
  },
  {
   "cell_type": "markdown",
   "metadata": {
    "id": "h7NfRLCpFec1"
   },
   "source": [
    "Файл с датасетом - `olympics_dataset.csv`"
   ]
  },
  {
   "cell_type": "code",
   "execution_count": 46,
   "metadata": {},
   "outputs": [],
   "source": [
    "import pandas as pd\n",
    "import matplotlib.pyplot as plt"
   ]
  },
  {
   "cell_type": "code",
   "execution_count": 47,
   "metadata": {},
   "outputs": [],
   "source": [
    "# Load dataset here\n",
    "df = pd.read_csv('olympics_dataset.csv')"
   ]
  },
  {
   "cell_type": "markdown",
   "metadata": {
    "id": "fuOEjaSBzJMn"
   },
   "source": [
    "1. Сколько спортсменов участвовали в Летних Олимпийских играх за всё время?"
   ]
  },
  {
   "cell_type": "code",
   "execution_count": 48,
   "metadata": {
    "id": "W0NVQaWEzcrj"
   },
   "outputs": [
    {
     "name": "stdout",
     "output_type": "stream",
     "text": [
      "129992\n"
     ]
    }
   ],
   "source": [
    "total_athletes = df['Name'].nunique()\n",
    "print(total_athletes)"
   ]
  },
  {
   "cell_type": "markdown",
   "metadata": {
    "id": "NgqBXyjAzdC1"
   },
   "source": [
    "2. Найдите участника с наибольшим количеством медалей"
   ]
  },
  {
   "cell_type": "code",
   "execution_count": 49,
   "metadata": {
    "id": "_BgXSSrAzgJr"
   },
   "outputs": [
    {
     "name": "stdout",
     "output_type": "stream",
     "text": [
      "John Jr.\n"
     ]
    }
   ],
   "source": [
    "most_medals = df.groupby('Name')['Medal'].count().idxmax()\n",
    "print(most_medals)"
   ]
  },
  {
   "cell_type": "markdown",
   "metadata": {
    "id": "hAITny41zgjO"
   },
   "source": [
    "3. Какой спорт является самым популярным, то есть в нём участвовало больше всего спортсменов за всё время?"
   ]
  },
  {
   "cell_type": "code",
   "execution_count": 50,
   "metadata": {
    "id": "3aG36MWizmVa"
   },
   "outputs": [
    {
     "name": "stdout",
     "output_type": "stream",
     "text": [
      "Athletics\n"
     ]
    }
   ],
   "source": [
    "most_popular_sport = df['Sport'].value_counts().idxmax()\n",
    "print(most_popular_sport)"
   ]
  },
  {
   "cell_type": "markdown",
   "metadata": {
    "id": "8AU6Qj1nzmo9"
   },
   "source": [
    "4. Кто был победителем медального зачёта в 2004 году?"
   ]
  },
  {
   "cell_type": "code",
   "execution_count": 51,
   "metadata": {
    "id": "VU9cUVwCzr4v"
   },
   "outputs": [
    {
     "name": "stdout",
     "output_type": "stream",
     "text": [
      "USA\n"
     ]
    }
   ],
   "source": [
    "medal_winner_2004 = df[df['Year'] == 2004].groupby('NOC')['Medal'].count().idxmax()\n",
    "print(medal_winner_2004)"
   ]
  },
  {
   "cell_type": "markdown",
   "metadata": {
    "id": "WW5dyJHlzsMS"
   },
   "source": [
    "5. В каком виде спорта США завоевало наибольшее число медалей?"
   ]
  },
  {
   "cell_type": "code",
   "execution_count": 52,
   "metadata": {
    "id": "VStk_FqV1RMW"
   },
   "outputs": [
    {
     "name": "stdout",
     "output_type": "stream",
     "text": [
      "Athletics\n"
     ]
    }
   ],
   "source": [
    "us_medals_by_sport = df[df['NOC'] == 'USA'].groupby('Sport')['Medal'].count()\n",
    "most_medals_sport_us = us_medals_by_sport.idxmax()\n",
    "print(most_medals_sport_us)"
   ]
  },
  {
   "cell_type": "markdown",
   "metadata": {
    "id": "mqT-RjT5ymfJ"
   },
   "source": [
    "# С помощью графика покажите:"
   ]
  },
  {
   "cell_type": "markdown",
   "metadata": {
    "id": "KrawmUwtERK0"
   },
   "source": [
    "6. Сколько женщин и мужчин участвовало в Летних Олимпийских играх каждый год?"
   ]
  },
  {
   "cell_type": "code",
   "execution_count": 53,
   "metadata": {
    "id": "xIDuYWxLEZty"
   },
   "outputs": [
    {
     "data": {
      "image/png": "[encoded data removed]",
      "text/plain": [
       "<Figure size 640x480 with 1 Axes>"
      ]
     },
     "metadata": {},
     "output_type": "display_data"
    }
   ],
   "source": [
    "gender_years = df.groupby(['Year', 'Sex'])['Name'].nunique().unstack().fillna(0)\n",
    "gender_years.plot(kind='bar', stacked=True)\n",
    "plt.title('Количество женщин и мужчин в Летних Олимпийских играх каждый год')\n",
    "plt.xlabel('Год')\n",
    "plt.ylabel('Количество участников')\n",
    "plt.show()"
   ]
  },
  {
   "cell_type": "markdown",
   "metadata": {
    "id": "Vd7kfuEeEZSr"
   },
   "source": [
    "7. Какие 10 стран на текущий момент имеют наибольшее количество золотых медалей?\n"
   ]
  },
  {
   "cell_type": "code",
   "execution_count": 54,
   "metadata": {
    "id": "weNY9z0NFb4c"
   },
   "outputs": [
    {
     "name": "stdout",
     "output_type": "stream",
     "text": [
      "NOC\n",
      "USA    2716\n",
      "URS     832\n",
      "GBR     716\n",
      "GER     634\n",
      "FRA     583\n",
      "ITA     571\n",
      "CHN     464\n",
      "HUN     450\n",
      "AUS     411\n",
      "SWE     365\n",
      "Name: Medal, dtype: int64\n"
     ]
    }
   ],
   "source": [
    "gold_medals_by_country = df[df['Medal'] == 'Gold'].groupby('NOC')['Medal'].count()\n",
    "top_10_countries_gold = gold_medals_by_country.nlargest(10)\n",
    "print(top_10_countries_gold)"
   ]
  },
  {
   "cell_type": "markdown",
   "metadata": {
    "id": "SlRCGFkXFbBq"
   },
   "source": [
    "8. Сколько золотых, серебряных и бронзовых медалей зарабатывал СССР отдельно по каждым играм?"
   ]
  },
  {
   "cell_type": "code",
   "execution_count": 55,
   "metadata": {
    "id": "SzrdxQhaF7gT"
   },
   "outputs": [
    {
     "name": "stdout",
     "output_type": "stream",
     "text": [
      "Medal  Bronze  Gold  No medal  Silver\n",
      "Year                                 \n",
      "1952       19    36       334      62\n",
      "1956       55    68       242      46\n",
      "1960       45    61       245      63\n",
      "1964       51    60       289      63\n",
      "1968       64    65       279      63\n",
      "1972       60   107       317      47\n",
      "1976       77   114       288      95\n",
      "1980      126   187       218     129\n",
      "1988       99   134       347      67\n"
     ]
    }
   ],
   "source": [
    "ussr_medals = df[df['NOC'] == 'URS'].groupby(['Year', 'Medal'])['Name'].count().unstack().fillna(0)\n",
    "print(ussr_medals)"
   ]
  },
  {
   "cell_type": "markdown",
   "metadata": {
    "id": "L7Nnrghyy07f"
   },
   "source": [
    "9. Сколько медалей завоёвывали спортсмены и спортсменки (отдельно) команды Китая на каждой олимпиаде?\n"
   ]
  },
  {
   "cell_type": "code",
   "execution_count": 56,
   "metadata": {
    "id": "IjMC9RULy0tE"
   },
   "outputs": [
    {
     "name": "stdout",
     "output_type": "stream",
     "text": [
      "Sex     F    M\n",
      "Year          \n",
      "1932    0    2\n",
      "1936    3   62\n",
      "1948    1   32\n",
      "1952    0    1\n",
      "1984  123  200\n",
      "1988  194  233\n",
      "1992  205  189\n",
      "1996  259  179\n",
      "2000  255  159\n",
      "2004  317  201\n",
      "2008  354  376\n",
      "2012  267  212\n",
      "2016  295  204\n",
      "2020  368  206\n",
      "2024  359  228\n"
     ]
    }
   ],
   "source": [
    "china_medals = df[df['NOC'] == 'CHN'].groupby(['Year', 'Sex'])['Medal'].count().unstack().fillna(0).astype(int)\n",
    "print(china_medals)"
   ]
  },
  {
   "cell_type": "markdown",
   "metadata": {
    "id": "YM5LH2-Xyz5A"
   },
   "source": [
    "10. Какие 10 стран имеют наибольшее количество участников, не получивших никаких медалей ни на одной из Летних олимпиад?"
   ]
  },
  {
   "cell_type": "code",
   "execution_count": 57,
   "metadata": {},
   "outputs": [
    {
     "name": "stdout",
     "output_type": "stream",
     "text": [
      "Series([], Name: Name, dtype: int64)\n"
     ]
    }
   ],
   "source": [
    "no_medals = df[df['Medal'].isna()].groupby('NOC')['Name'].nunique()\n",
    "top_10_no_medals = no_medals.nlargest(10)\n",
    "print(top_10_no_medals)"
   ]
  },
  {
   "cell_type": "markdown",
   "metadata": {},
   "source": [
    "Так как строка пустая, то перепроверим данные:"
   ]
  },
  {
   "cell_type": "code",
   "execution_count": 58,
   "metadata": {
    "id": "QF1-5fg3y1SY"
   },
   "outputs": [
    {
     "name": "stdout",
     "output_type": "stream",
     "text": [
      "(0, 11)\n"
     ]
    }
   ],
   "source": [
    "# Есть ли участники без медалей.\n",
    "# Посмотрим количество строк, где Medal пустое.\n",
    "# Если вывод будет (0, ...), значит, таких участников действительно нет.\n",
    "no_medals_count = df[df['Medal'].isna()]\n",
    "print(no_medals_count.shape)"
   ]
  },
  {
   "cell_type": "markdown",
   "metadata": {
    "id": "uc7V9_XbG5lY"
   },
   "source": [
    "**Выводы:**\n"
   ]
  },
  {
   "cell_type": "markdown",
   "metadata": {},
   "source": [
    "- Используя библиотеки `numpy` и `pandas`, можно решать широкий круг задач без необходимости использования циклов и списковых выражений.\n",
    "- Благодаря `pandas` легко группировать, фильтровать и анализировать данные, а `numpy` предоставляет мощные инструменты для численных вычислений и преобразований массивов.\n",
    "- Визуализация данных помогает увидеть тенденции и понять основные характеристики больших наборов данных."
   ]
  }
 ],
 "metadata": {
  "colab": {
   "provenance": []
  },
  "kernelspec": {
   "display_name": "Python 3 (ipykernel)",
   "language": "python",
   "name": "python3"
  },
  "language_info": {
   "codemirror_mode": {
    "name": "ipython",
    "version": 3
   },
   "file_extension": ".py",
   "mimetype": "text/x-python",
   "name": "python",
   "nbconvert_exporter": "python",
   "pygments_lexer": "ipython3",
   "version": "3.12.0"
  }
 },
 "nbformat": 4,
 "nbformat_minor": 4
}
